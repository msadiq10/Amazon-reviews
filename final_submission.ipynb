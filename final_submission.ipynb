{
 "cells": [
  {
   "attachments": {},
   "cell_type": "markdown",
   "metadata": {},
   "source": [
    "# Installations"
   ]
  },
  {
   "cell_type": "code",
   "execution_count": 1,
   "metadata": {},
   "outputs": [
    {
     "name": "stdout",
     "output_type": "stream",
     "text": [
      "Requirement already satisfied: pandas in c:\\users\\sadiq\\anaconda3\\envs\\tensorproject\\lib\\site-packages (1.5.0)\n",
      "Requirement already satisfied: pytz>=2020.1 in c:\\users\\sadiq\\anaconda3\\envs\\tensorproject\\lib\\site-packages (from pandas) (2022.2.1)\n",
      "Requirement already satisfied: numpy>=1.20.3 in c:\\users\\sadiq\\anaconda3\\envs\\tensorproject\\lib\\site-packages (from pandas) (1.23.5)\n",
      "Requirement already satisfied: python-dateutil>=2.8.1 in c:\\users\\sadiq\\appdata\\roaming\\python\\python39\\site-packages (from pandas) (2.8.2)\n",
      "Requirement already satisfied: six>=1.5 in c:\\users\\sadiq\\appdata\\roaming\\python\\python39\\site-packages (from python-dateutil>=2.8.1->pandas) (1.15.0)\n",
      "Requirement already satisfied: numpy in c:\\users\\sadiq\\anaconda3\\envs\\tensorproject\\lib\\site-packages (1.23.5)\n",
      "Requirement already satisfied: matplotlib in c:\\users\\sadiq\\anaconda3\\envs\\tensorproject\\lib\\site-packages (3.7.1)\n",
      "Requirement already satisfied: pillow>=6.2.0 in c:\\users\\sadiq\\anaconda3\\envs\\tensorproject\\lib\\site-packages (from matplotlib) (9.4.0)\n",
      "Requirement already satisfied: pyparsing>=2.3.1 in c:\\users\\sadiq\\anaconda3\\envs\\tensorproject\\lib\\site-packages (from matplotlib) (3.0.9)\n",
      "Requirement already satisfied: cycler>=0.10 in c:\\users\\sadiq\\anaconda3\\envs\\tensorproject\\lib\\site-packages (from matplotlib) (0.11.0)\n",
      "Requirement already satisfied: importlib-resources>=3.2.0 in c:\\users\\sadiq\\anaconda3\\envs\\tensorproject\\lib\\site-packages (from matplotlib) (5.12.0)\n",
      "Requirement already satisfied: fonttools>=4.22.0 in c:\\users\\sadiq\\anaconda3\\envs\\tensorproject\\lib\\site-packages (from matplotlib) (4.39.3)\n",
      "Requirement already satisfied: python-dateutil>=2.7 in c:\\users\\sadiq\\appdata\\roaming\\python\\python39\\site-packages (from matplotlib) (2.8.2)\n",
      "Requirement already satisfied: contourpy>=1.0.1 in c:\\users\\sadiq\\anaconda3\\envs\\tensorproject\\lib\\site-packages (from matplotlib) (1.0.7)\n",
      "Requirement already satisfied: kiwisolver>=1.0.1 in c:\\users\\sadiq\\anaconda3\\envs\\tensorproject\\lib\\site-packages (from matplotlib) (1.4.4)\n",
      "Requirement already satisfied: packaging>=20.0 in c:\\users\\sadiq\\anaconda3\\envs\\tensorproject\\lib\\site-packages (from matplotlib) (21.3)\n",
      "Requirement already satisfied: numpy>=1.20 in c:\\users\\sadiq\\anaconda3\\envs\\tensorproject\\lib\\site-packages (from matplotlib) (1.23.5)\n",
      "Requirement already satisfied: zipp>=3.1.0 in c:\\users\\sadiq\\anaconda3\\envs\\tensorproject\\lib\\site-packages (from importlib-resources>=3.2.0->matplotlib) (3.15.0)\n",
      "Requirement already satisfied: six>=1.5 in c:\\users\\sadiq\\appdata\\roaming\\python\\python39\\site-packages (from python-dateutil>=2.7->matplotlib) (1.15.0)\n",
      "Requirement already satisfied: nltk in c:\\users\\sadiq\\anaconda3\\envs\\tensorproject\\lib\\site-packages (3.8.1)\n",
      "Requirement already satisfied: regex>=2021.8.3 in c:\\users\\sadiq\\anaconda3\\envs\\tensorproject\\lib\\site-packages (from nltk) (2022.10.31)\n",
      "Requirement already satisfied: joblib in c:\\users\\sadiq\\anaconda3\\envs\\tensorproject\\lib\\site-packages (from nltk) (1.1.0)\n",
      "Requirement already satisfied: tqdm in c:\\users\\sadiq\\anaconda3\\envs\\tensorproject\\lib\\site-packages (from nltk) (4.64.1)\n",
      "Requirement already satisfied: click in c:\\users\\sadiq\\anaconda3\\envs\\tensorproject\\lib\\site-packages (from nltk) (8.1.3)\n",
      "Requirement already satisfied: colorama in c:\\users\\sadiq\\anaconda3\\envs\\tensorproject\\lib\\site-packages (from click->nltk) (0.4.6)\n",
      "Requirement already satisfied: scikit-learn in c:\\users\\sadiq\\anaconda3\\envs\\tensorproject\\lib\\site-packages (1.2.2)\n",
      "Requirement already satisfied: threadpoolctl>=2.0.0 in c:\\users\\sadiq\\anaconda3\\envs\\tensorproject\\lib\\site-packages (from scikit-learn) (3.1.0)\n",
      "Collecting joblib>=1.1.1\n",
      "  Using cached joblib-1.2.0-py3-none-any.whl (297 kB)\n",
      "Requirement already satisfied: numpy>=1.17.3 in c:\\users\\sadiq\\anaconda3\\envs\\tensorproject\\lib\\site-packages (from scikit-learn) (1.23.5)\n",
      "Requirement already satisfied: scipy>=1.3.2 in c:\\users\\sadiq\\anaconda3\\envs\\tensorproject\\lib\\site-packages (from scikit-learn) (1.10.1)\n",
      "Installing collected packages: joblib\n",
      "  Attempting uninstall: joblib\n",
      "    Found existing installation: joblib 1.1.0\n",
      "    Uninstalling joblib-1.1.0:\n",
      "      Successfully uninstalled joblib-1.1.0\n",
      "Successfully installed joblib-1.2.0\n"
     ]
    }
   ],
   "source": [
    "! pip install pandas\n",
    "! pip install numpy\n",
    "! pip install matplotlib\n",
    "! pip install nltk\n",
    "! pip install scikit-learn"
   ]
  },
  {
   "attachments": {},
   "cell_type": "markdown",
   "metadata": {},
   "source": [
    "# Import libraries"
   ]
  },
  {
   "cell_type": "code",
   "execution_count": 47,
   "metadata": {},
   "outputs": [],
   "source": [
    "import pandas as pd\n",
    "import numpy as np\n",
    "import matplotlib.pyplot as plt\n",
    "import nltk\n",
    "from nltk.corpus import stopwords\n",
    "from nltk.stem import SnowballStemmer\n",
    "from nltk.stem import WordNetLemmatizer\n",
    "import re\n",
    "from sklearn.feature_extraction.text import TfidfVectorizer\n",
    "from sklearn.linear_model import LogisticRegression\n",
    "from sklearn.metrics import precision_score, recall_score, f1_score, accuracy_score\n",
    "from sklearn.model_selection import train_test_split\n",
    "from sklearn.svm import SVC\n",
    "from sklearn.feature_extraction.text import CountVectorizer\n",
    "from sklearn.linear_model import LogisticRegression\n",
    "from sklearn.model_selection import RandomizedSearchCV\n",
    "from scipy.stats import uniform"
   ]
  },
  {
   "cell_type": "code",
   "execution_count": 3,
   "metadata": {},
   "outputs": [
    {
     "name": "stderr",
     "output_type": "stream",
     "text": [
      "[nltk_data] Downloading package omw-1.4 to\n",
      "[nltk_data]     C:\\Users\\sadiq\\AppData\\Roaming\\nltk_data...\n",
      "[nltk_data]   Package omw-1.4 is already up-to-date!\n",
      "[nltk_data] Downloading package stopwords to\n",
      "[nltk_data]     C:\\Users\\sadiq\\AppData\\Roaming\\nltk_data...\n",
      "[nltk_data]   Package stopwords is already up-to-date!\n",
      "[nltk_data] Downloading package punkt to\n",
      "[nltk_data]     C:\\Users\\sadiq\\AppData\\Roaming\\nltk_data...\n",
      "[nltk_data]   Package punkt is already up-to-date!\n"
     ]
    },
    {
     "data": {
      "text/plain": [
       "True"
      ]
     },
     "execution_count": 3,
     "metadata": {},
     "output_type": "execute_result"
    }
   ],
   "source": [
    "# Download necessary tools from NLTK\n",
    "nltk.download('omw-1.4')\n",
    "nltk.download('stopwords')\n",
    "nltk.download('punkt')"
   ]
  },
  {
   "attachments": {},
   "cell_type": "markdown",
   "metadata": {},
   "source": [
    "# Data Exploration and Visualization"
   ]
  },
  {
   "attachments": {},
   "cell_type": "markdown",
   "metadata": {},
   "source": [
    "### Load data "
   ]
  },
  {
   "cell_type": "code",
   "execution_count": 4,
   "metadata": {},
   "outputs": [],
   "source": [
    "train = pd.read_csv('train.csv')"
   ]
  },
  {
   "attachments": {},
   "cell_type": "markdown",
   "metadata": {},
   "source": [
    "### Exploration"
   ]
  },
  {
   "cell_type": "code",
   "execution_count": 5,
   "metadata": {},
   "outputs": [
    {
     "data": {
      "text/html": [
       "<div>\n",
       "<style scoped>\n",
       "    .dataframe tbody tr th:only-of-type {\n",
       "        vertical-align: middle;\n",
       "    }\n",
       "\n",
       "    .dataframe tbody tr th {\n",
       "        vertical-align: top;\n",
       "    }\n",
       "\n",
       "    .dataframe thead th {\n",
       "        text-align: right;\n",
       "    }\n",
       "</style>\n",
       "<table border=\"1\" class=\"dataframe\">\n",
       "  <thead>\n",
       "    <tr style=\"text-align: right;\">\n",
       "      <th></th>\n",
       "      <th>overall</th>\n",
       "      <th>Review</th>\n",
       "    </tr>\n",
       "  </thead>\n",
       "  <tbody>\n",
       "    <tr>\n",
       "      <th>0</th>\n",
       "      <td>5</td>\n",
       "      <td>This a really cool (but time-tested) design. T...</td>\n",
       "    </tr>\n",
       "    <tr>\n",
       "      <th>1</th>\n",
       "      <td>5</td>\n",
       "      <td>I liked the first pair so well I bought severa...</td>\n",
       "    </tr>\n",
       "    <tr>\n",
       "      <th>2</th>\n",
       "      <td>4</td>\n",
       "      <td>I took them to the range to put them to the te...</td>\n",
       "    </tr>\n",
       "    <tr>\n",
       "      <th>3</th>\n",
       "      <td>5</td>\n",
       "      <td>What can you say about a yoga block?  These ar...</td>\n",
       "    </tr>\n",
       "    <tr>\n",
       "      <th>4</th>\n",
       "      <td>5</td>\n",
       "      <td>After reading many reviews I decided on this l...</td>\n",
       "    </tr>\n",
       "  </tbody>\n",
       "</table>\n",
       "</div>"
      ],
      "text/plain": [
       "   overall                                             Review\n",
       "0        5  This a really cool (but time-tested) design. T...\n",
       "1        5  I liked the first pair so well I bought severa...\n",
       "2        4  I took them to the range to put them to the te...\n",
       "3        5  What can you say about a yoga block?  These ar...\n",
       "4        5  After reading many reviews I decided on this l..."
      ]
     },
     "execution_count": 5,
     "metadata": {},
     "output_type": "execute_result"
    }
   ],
   "source": [
    "train.head()"
   ]
  },
  {
   "cell_type": "code",
   "execution_count": 6,
   "metadata": {},
   "outputs": [
    {
     "data": {
      "text/html": [
       "<div>\n",
       "<style scoped>\n",
       "    .dataframe tbody tr th:only-of-type {\n",
       "        vertical-align: middle;\n",
       "    }\n",
       "\n",
       "    .dataframe tbody tr th {\n",
       "        vertical-align: top;\n",
       "    }\n",
       "\n",
       "    .dataframe thead th {\n",
       "        text-align: right;\n",
       "    }\n",
       "</style>\n",
       "<table border=\"1\" class=\"dataframe\">\n",
       "  <thead>\n",
       "    <tr style=\"text-align: right;\">\n",
       "      <th></th>\n",
       "      <th>overall</th>\n",
       "    </tr>\n",
       "  </thead>\n",
       "  <tbody>\n",
       "    <tr>\n",
       "      <th>count</th>\n",
       "      <td>222243.000000</td>\n",
       "    </tr>\n",
       "    <tr>\n",
       "      <th>mean</th>\n",
       "      <td>4.394771</td>\n",
       "    </tr>\n",
       "    <tr>\n",
       "      <th>std</th>\n",
       "      <td>0.985039</td>\n",
       "    </tr>\n",
       "    <tr>\n",
       "      <th>min</th>\n",
       "      <td>1.000000</td>\n",
       "    </tr>\n",
       "    <tr>\n",
       "      <th>25%</th>\n",
       "      <td>4.000000</td>\n",
       "    </tr>\n",
       "    <tr>\n",
       "      <th>50%</th>\n",
       "      <td>5.000000</td>\n",
       "    </tr>\n",
       "    <tr>\n",
       "      <th>75%</th>\n",
       "      <td>5.000000</td>\n",
       "    </tr>\n",
       "    <tr>\n",
       "      <th>max</th>\n",
       "      <td>5.000000</td>\n",
       "    </tr>\n",
       "  </tbody>\n",
       "</table>\n",
       "</div>"
      ],
      "text/plain": [
       "             overall\n",
       "count  222243.000000\n",
       "mean        4.394771\n",
       "std         0.985039\n",
       "min         1.000000\n",
       "25%         4.000000\n",
       "50%         5.000000\n",
       "75%         5.000000\n",
       "max         5.000000"
      ]
     },
     "execution_count": 6,
     "metadata": {},
     "output_type": "execute_result"
    }
   ],
   "source": [
    "train.describe()"
   ]
  },
  {
   "cell_type": "code",
   "execution_count": 7,
   "metadata": {},
   "outputs": [
    {
     "name": "stdout",
     "output_type": "stream",
     "text": [
      "<class 'pandas.core.frame.DataFrame'>\n",
      "RangeIndex: 222243 entries, 0 to 222242\n",
      "Data columns (total 2 columns):\n",
      " #   Column   Non-Null Count   Dtype \n",
      "---  ------   --------------   ----- \n",
      " 0   overall  222243 non-null  int64 \n",
      " 1   Review   222243 non-null  object\n",
      "dtypes: int64(1), object(1)\n",
      "memory usage: 3.4+ MB\n"
     ]
    }
   ],
   "source": [
    "train.info()"
   ]
  },
  {
   "cell_type": "code",
   "execution_count": 8,
   "metadata": {},
   "outputs": [
    {
     "data": {
      "text/plain": [
       "overall                                                    4\n",
       "Review     I took them to the range to put them to the te...\n",
       "Name: 2, dtype: object"
      ]
     },
     "execution_count": 8,
     "metadata": {},
     "output_type": "execute_result"
    }
   ],
   "source": [
    "train.loc[2]"
   ]
  },
  {
   "cell_type": "code",
   "execution_count": 9,
   "metadata": {},
   "outputs": [
    {
     "data": {
      "text/plain": [
       "4"
      ]
     },
     "execution_count": 9,
     "metadata": {},
     "output_type": "execute_result"
    }
   ],
   "source": [
    "train.loc[2, 'overall']"
   ]
  },
  {
   "cell_type": "code",
   "execution_count": 10,
   "metadata": {},
   "outputs": [
    {
     "name": "stdout",
     "output_type": "stream",
     "text": [
      "Total number of reviews/ratings:  222243\n"
     ]
    }
   ],
   "source": [
    "totalCount = train['overall'].count()\n",
    "print('Total number of reviews/ratings: ', totalCount)"
   ]
  },
  {
   "cell_type": "code",
   "execution_count": 11,
   "metadata": {},
   "outputs": [
    {
     "name": "stdout",
     "output_type": "stream",
     "text": [
      "Total number of reviews with 5 star rating:  141169\n",
      "Total number of reviews with 4 star rating:  48748\n",
      "Total number of reviews with 3 star rating:  17947\n",
      "Total number of reviews with 2 star rating:  7650\n",
      "Total number of reviews with 1 star rating:  6729\n"
     ]
    },
    {
     "data": {
      "text/plain": [
       "True"
      ]
     },
     "execution_count": 11,
     "metadata": {},
     "output_type": "execute_result"
    }
   ],
   "source": [
    "count5 = train[train['overall']==5]['overall'].count()\n",
    "count4 = train[train['overall']==4]['overall'].count()\n",
    "count3 = train[train['overall']==3]['overall'].count()\n",
    "count2 = train[train['overall']==2]['overall'].count()\n",
    "count1 = train[train['overall']==1]['overall'].count()\n",
    "\n",
    "print('Total number of reviews with 5 star rating: ', count5)\n",
    "print('Total number of reviews with 4 star rating: ', count4)\n",
    "print('Total number of reviews with 3 star rating: ', count3)\n",
    "print('Total number of reviews with 2 star rating: ', count2)\n",
    "print('Total number of reviews with 1 star rating: ', count1)\n",
    "\n",
    "count5+count4+count3+count2+count1==totalCount"
   ]
  },
  {
   "cell_type": "code",
   "execution_count": 12,
   "metadata": {},
   "outputs": [
    {
     "name": "stdout",
     "output_type": "stream",
     "text": [
      "Percentage of reviews with 5 star rating:  63.52\n",
      "Percentage of reviews with 4 star rating:  21.93\n",
      "Percentage of reviews with 3 star rating:  8.08\n",
      "Percentage of reviews with 2 star rating:  3.44\n",
      "Percentage of reviews with 1 star rating:  3.03\n"
     ]
    }
   ],
   "source": [
    "percent5 = format((count5/totalCount)*100, '.2f')\n",
    "percent4 = format((count4/totalCount)*100, '.2f')\n",
    "percent3 = format((count3/totalCount)*100, '.2f')\n",
    "percent2 = format((count2/totalCount)*100, '.2f')\n",
    "percent1 = format((count1/totalCount)*100, '.2f')\n",
    "\n",
    "print('Percentage of reviews with 5 star rating: ', percent5)\n",
    "print('Percentage of reviews with 4 star rating: ', percent4)\n",
    "print('Percentage of reviews with 3 star rating: ', percent3)\n",
    "print('Percentage of reviews with 2 star rating: ', percent2)\n",
    "print('Percentage of reviews with 1 star rating: ', percent1)"
   ]
  },
  {
   "attachments": {},
   "cell_type": "markdown",
   "metadata": {},
   "source": [
    "### Visualization"
   ]
  },
  {
   "cell_type": "code",
   "execution_count": 13,
   "metadata": {},
   "outputs": [
    {
     "data": {
      "image/png": "[encoded data removed]",
      "text/plain": [
       "<Figure size 640x480 with 1 Axes>"
      ]
     },
     "metadata": {},
     "output_type": "display_data"
    }
   ],
   "source": [
    "## Print the Pie Chart ##\n",
    "    \n",
    "labels = ['5 star ['+str(percent5)+'%]', \n",
    "          '4 star ['+str(percent4)+'%]', \n",
    "          '3 star ['+str(percent3)+'%]',\n",
    "          '2 star ['+str(percent2)+'%]',\n",
    "          '1 star ['+str(percent1)+'%]', ]\n",
    "\n",
    "sizes = [percent5, percent4, percent3, percent2, percent1]\n",
    "colors = ['green', 'yellowgreen', 'gold', 'orange', 'red']\n",
    "patches, texts = plt.pie(sizes, colors = colors, startangle = 90)\n",
    "plt.legend(patches, labels, loc = \"best\")\n",
    "plt.title(\"Overall Review Distribution by analyzing \" + str(totalCount) + \" Amazon Reviews \")\n",
    "plt.axis('equal')\n",
    "plt.tight_layout()\n",
    "plt.show()"
   ]
  },
  {
   "cell_type": "code",
   "execution_count": 14,
   "metadata": {},
   "outputs": [
    {
     "data": {
      "image/png": "[encoded data removed]",
      "text/plain": [
       "<Figure size 640x480 with 1 Axes>"
      ]
     },
     "metadata": {},
     "output_type": "display_data"
    }
   ],
   "source": [
    "# data to plot\n",
    "labels = ['5', '4', '3', '2', '1']\n",
    "values = [count5, count4, count3, count2, count1]\n",
    "\n",
    "# create a bar chart\n",
    "plt.bar(labels, values)\n",
    "\n",
    "# set title and axis labels\n",
    "plt.title('No. of Reviews vs Ratings')\n",
    "plt.xlabel('Ratings')\n",
    "plt.ylabel('No. of Reviews')\n",
    "\n",
    "# display the plot\n",
    "plt.show()"
   ]
  },
  {
   "attachments": {},
   "cell_type": "markdown",
   "metadata": {},
   "source": [
    "# Text processing and Normalization"
   ]
  },
  {
   "cell_type": "code",
   "execution_count": 15,
   "metadata": {},
   "outputs": [],
   "source": [
    "X = train['Review']\n",
    "y = train['overall']"
   ]
  },
  {
   "cell_type": "code",
   "execution_count": 16,
   "metadata": {},
   "outputs": [
    {
     "data": {
      "text/plain": [
       "0    This a really cool (but time-tested) design. T...\n",
       "1    I liked the first pair so well I bought severa...\n",
       "2    I took them to the range to put them to the te...\n",
       "3    What can you say about a yoga block?  These ar...\n",
       "4    After reading many reviews I decided on this l...\n",
       "Name: Review, dtype: object"
      ]
     },
     "execution_count": 16,
     "metadata": {},
     "output_type": "execute_result"
    }
   ],
   "source": [
    "X.head()"
   ]
  },
  {
   "cell_type": "code",
   "execution_count": 17,
   "metadata": {},
   "outputs": [
    {
     "data": {
      "text/plain": [
       "0    5\n",
       "1    5\n",
       "2    4\n",
       "3    5\n",
       "4    5\n",
       "Name: overall, dtype: int64"
      ]
     },
     "execution_count": 17,
     "metadata": {},
     "output_type": "execute_result"
    }
   ],
   "source": [
    "y.head()"
   ]
  },
  {
   "cell_type": "code",
   "execution_count": 18,
   "metadata": {},
   "outputs": [],
   "source": [
    "X_train, X_test, y_train, y_test = train_test_split(X, y ,test_size=0.2, random_state=42)"
   ]
  },
  {
   "cell_type": "code",
   "execution_count": 29,
   "metadata": {},
   "outputs": [
    {
     "data": {
      "text/plain": [
       "(177794,)"
      ]
     },
     "execution_count": 29,
     "metadata": {},
     "output_type": "execute_result"
    }
   ],
   "source": [
    "X_train.shape"
   ]
  },
  {
   "attachments": {},
   "cell_type": "markdown",
   "metadata": {},
   "source": [
    "### Removing stop words, punctuations, Urls, mentions, tags"
   ]
  },
  {
   "cell_type": "code",
   "execution_count": 19,
   "metadata": {},
   "outputs": [],
   "source": [
    "# Define function to perform text processing\n",
    "def process_text(text):\n",
    "\n",
    "# Define stop words\n",
    "    stop_words = set(stopwords.words('english'))\n",
    "\n",
    "    # Define regular expression for removing punctuation\n",
    "    punct_pattern = re.compile(r'[^\\w\\s]')\n",
    "\n",
    "    # Define regular expression for removing URLs and mentions\n",
    "    url_pattern = re.compile(r'https?://\\S+|www\\.\\S+')\n",
    "    mention_pattern = re.compile(r'@[A-Za-z0-9_]+')\n",
    "    hash_pattern = re.compile(r'#[A-Za-z0-9_]+')\n",
    "\n",
    "    # Convert text to lowercase\n",
    "    text = text.lower()\n",
    "\n",
    "    # Remove URLs\n",
    "    text = url_pattern.sub('', text)\n",
    "\n",
    "    # Remove user mentions\n",
    "    text = mention_pattern.sub('', text)\n",
    "\n",
    "    # Remove hashtags\n",
    "    text = hash_pattern.sub('', text)\n",
    "\n",
    "    # remove numbers\n",
    "    text = ''.join((z for z in text if not z.isdigit()))\n",
    "    \n",
    "    # Tokenize text\n",
    "    tokens = nltk.word_tokenize(text)\n",
    "    \n",
    "    # Remove stop words\n",
    "    tokens = [token for token in tokens if token not in stop_words]\n",
    "    \n",
    "    # Remove punctuation\n",
    "    tokens = [punct_pattern.sub('', token) for token in tokens]\n",
    "    \n",
    "    # Remove any remaining empty tokens\n",
    "    tokens = [token for token in tokens if token]\n",
    "\n",
    "    # Join tokens back into a single string\n",
    "    text_processed = ' '.join(tokens)\n",
    "    \n",
    "    return text_processed"
   ]
  },
  {
   "cell_type": "code",
   "execution_count": 30,
   "metadata": {},
   "outputs": [
    {
     "data": {
      "text/plain": [
       "177794"
      ]
     },
     "execution_count": 30,
     "metadata": {},
     "output_type": "execute_result"
    }
   ],
   "source": [
    "process_train = []\n",
    "for review in X_train:\n",
    "    process_train.append(process_text(review))\n",
    "\n",
    "len(process_train)"
   ]
  },
  {
   "cell_type": "code",
   "execution_count": 31,
   "metadata": {},
   "outputs": [
    {
     "name": "stdout",
     "output_type": "stream",
     "text": [
      "Raw text: \n",
      "Not very clear in the pictures but the top area just over the head is a camo portion that is pretty corny looking.  its the &#34;old school&#34; type of camo.  Other than that its a net and not much more to say. Pretty good for the price.\n",
      "\n",
      "Processed text: \n",
      "clear pictures top area head camo portion pretty corny looking old school type camo net much say pretty good price\n"
     ]
    }
   ],
   "source": [
    "print(\"Raw text: \")\n",
    "print(X_train.iloc[0])\n",
    "print(\"\")\n",
    "print(\"Processed text: \")\n",
    "print(process_train[0])"
   ]
  },
  {
   "attachments": {},
   "cell_type": "markdown",
   "metadata": {},
   "source": [
    "### Stemming"
   ]
  },
  {
   "cell_type": "code",
   "execution_count": 32,
   "metadata": {},
   "outputs": [],
   "source": [
    "stemmer = SnowballStemmer('english')\n",
    "\n",
    "\n",
    "\n",
    "def stem(text):\n",
    "\n",
    "    # Tokenize text\n",
    "    tokens = nltk.word_tokenize(text)\n",
    "        \n",
    "    # Stem words\n",
    "    tokens = [stemmer.stem(token) for token in tokens]\n",
    "    \n",
    "    # Remove any remaining empty tokens\n",
    "    tokens = [token for token in tokens if token]\n",
    "\n",
    "    # Join tokens back into a single string\n",
    "    text_processed = ' '.join(tokens)\n",
    "\n",
    "    return text_processed\n"
   ]
  },
  {
   "cell_type": "code",
   "execution_count": 33,
   "metadata": {},
   "outputs": [],
   "source": [
    "normalized_process_train_stem = []\n",
    "\n",
    "for review in process_train:\n",
    "    normalized_process_train_stem.append(stem(review))"
   ]
  },
  {
   "attachments": {},
   "cell_type": "markdown",
   "metadata": {},
   "source": [
    "### Lemmatization"
   ]
  },
  {
   "cell_type": "code",
   "execution_count": 24,
   "metadata": {},
   "outputs": [],
   "source": [
    "lemmatizer = WordNetLemmatizer()\n",
    "\n",
    "def lemmatize(text):\n",
    "            \n",
    "    # Tokenize text\n",
    "    tokens = nltk.word_tokenize(text)\n",
    "        \n",
    "    # Stem words\n",
    "    tokens = [lemmatizer.lemmatize(token) for token in tokens]\n",
    "    \n",
    "    # Remove any remaining empty tokens\n",
    "    tokens = [token for token in tokens if token]\n",
    "\n",
    "    # Join tokens back into a single string\n",
    "    text_processed = ' '.join(tokens)\n",
    "\n",
    "    return text_processed"
   ]
  },
  {
   "cell_type": "code",
   "execution_count": 25,
   "metadata": {},
   "outputs": [],
   "source": [
    "lemma_process_train = []\n",
    "for review in process_train:\n",
    "    lemma_process_train.append(lemmatize(review))"
   ]
  },
  {
   "cell_type": "code",
   "execution_count": 34,
   "metadata": {},
   "outputs": [
    {
     "name": "stdout",
     "output_type": "stream",
     "text": [
      "Raw text: \n",
      "Not very clear in the pictures but the top area just over the head is a camo portion that is pretty corny looking.  its the &#34;old school&#34; type of camo.  Other than that its a net and not much more to say. Pretty good for the price.\n",
      "\n",
      "Processed text: \n",
      "clear pictures top area head camo portion pretty corny looking old school type camo net much say pretty good price\n",
      "\n",
      "Processed Stemming text: \n",
      "clear pictur top area head camo portion pretti corni look old school type camo net much say pretti good price\n",
      "\n",
      "Processed Lemmatized text: \n",
      "clear picture top area head camo portion pretty corny looking old school type camo net much say pretty good price\n"
     ]
    }
   ],
   "source": [
    "print(\"Raw text: \")\n",
    "print(X_train.iloc[0])\n",
    "print(\"\")\n",
    "print(\"Processed text: \")\n",
    "print(process_train[0])\n",
    "print(\"\")\n",
    "print(\"Processed Stemming text: \")\n",
    "print(normalized_process_train_stem[0])\n",
    "print(\"\")\n",
    "print(\"Processed Lemmatized text: \")\n",
    "print(lemma_process_train[0])"
   ]
  },
  {
   "cell_type": "code",
   "execution_count": 56,
   "metadata": {},
   "outputs": [],
   "source": [
    "test=pd.read_csv('test.csv') # submission of majority class "
   ]
  },
  {
   "cell_type": "code",
   "execution_count": 64,
   "metadata": {},
   "outputs": [],
   "source": [
    "final_submission=pd.read_csv('sample_submission.csv')"
   ]
  },
  {
   "cell_type": "code",
   "execution_count": 58,
   "metadata": {},
   "outputs": [],
   "source": [
    "test_final = test['Review']"
   ]
  },
  {
   "cell_type": "code",
   "execution_count": 59,
   "metadata": {},
   "outputs": [],
   "source": [
    "process_test_final = []\n",
    "for review in test_final:\n",
    "    process_test_final.append(process_text(review))"
   ]
  },
  {
   "cell_type": "code",
   "execution_count": 60,
   "metadata": {},
   "outputs": [],
   "source": [
    "lemma_process_test_final = []\n",
    "for review in process_test_final:\n",
    "    lemma_process_test_final.append(lemmatize(review))"
   ]
  },
  {
   "attachments": {},
   "cell_type": "markdown",
   "metadata": {},
   "source": [
    "# Vector space Model and feature representation"
   ]
  },
  {
   "attachments": {},
   "cell_type": "markdown",
   "metadata": {},
   "source": [
    "### Bag of words representation"
   ]
  },
  {
   "cell_type": "code",
   "execution_count": 41,
   "metadata": {},
   "outputs": [
    {
     "name": "stdout",
     "output_type": "stream",
     "text": [
      "Vocabulary size: 13754\n"
     ]
    }
   ],
   "source": [
    "# CountVectorizer object\n",
    "vect =  CountVectorizer(min_df=15) \n",
    "vect.fit(lemma_process_train)\n",
    "print(\"Vocabulary size: {}\".format(len(vect.vocabulary_)))"
   ]
  },
  {
   "cell_type": "code",
   "execution_count": 42,
   "metadata": {},
   "outputs": [
    {
     "data": {
      "text/plain": [
       "<177794x13754 sparse matrix of type '<class 'numpy.int64'>'\n",
       "\twith 6366511 stored elements in Compressed Sparse Row format>"
      ]
     },
     "execution_count": 42,
     "metadata": {},
     "output_type": "execute_result"
    }
   ],
   "source": [
    "bag_of_words = vect.transform(lemma_process_train)\n",
    "bag_of_words"
   ]
  },
  {
   "cell_type": "code",
   "execution_count": 43,
   "metadata": {},
   "outputs": [],
   "source": [
    "process_test = []\n",
    "for review in X_test:\n",
    "    process_test.append(process_text(review))"
   ]
  },
  {
   "cell_type": "code",
   "execution_count": 44,
   "metadata": {},
   "outputs": [],
   "source": [
    "lemma_process_test = []\n",
    "for review in process_test:\n",
    "    lemma_process_test.append(lemmatize(review))"
   ]
  },
  {
   "attachments": {},
   "cell_type": "markdown",
   "metadata": {},
   "source": [
    "##### Logistic regression"
   ]
  },
  {
   "cell_type": "code",
   "execution_count": 45,
   "metadata": {},
   "outputs": [
    {
     "name": "stderr",
     "output_type": "stream",
     "text": [
      "c:\\Users\\sadiq\\anaconda3\\envs\\tensorProject\\lib\\site-packages\\sklearn\\linear_model\\_logistic.py:458: ConvergenceWarning: lbfgs failed to converge (status=1):\n",
      "STOP: TOTAL NO. of ITERATIONS REACHED LIMIT.\n",
      "\n",
      "Increase the number of iterations (max_iter) or scale the data as shown in:\n",
      "    https://scikit-learn.org/stable/modules/preprocessing.html\n",
      "Please also refer to the documentation for alternative solver options:\n",
      "    https://scikit-learn.org/stable/modules/linear_model.html#logistic-regression\n",
      "  n_iter_i = _check_optimize_result(\n"
     ]
    }
   ],
   "source": [
    "# Train and evaluate a logistic regression classifier\n",
    "lr = LogisticRegression(max_iter=1000)\n",
    "lr.fit(bag_of_words, y_train)\n",
    "lr_pred = lr.predict(vect.transform(lemma_process_test))\n",
    "precision_lr = precision_score(y_test, lr_pred, average='macro')\n",
    "recall_lr = recall_score(y_test, lr_pred, average='macro')\n",
    "f1_lr = f1_score(y_test, lr_pred, average='macro')\n",
    "acc_lr = f1_score(y_test, lr_pred, average='macro')\n"
   ]
  },
  {
   "cell_type": "code",
   "execution_count": 46,
   "metadata": {},
   "outputs": [
    {
     "name": "stdout",
     "output_type": "stream",
     "text": [
      "Logistic Regression: \n",
      "Precision: 0.48\n",
      "Recall: 0.42\n",
      "F1-score: 0.44\n",
      "Accuracy: 0.44\n"
     ]
    }
   ],
   "source": [
    "print('Logistic Regression: ')\n",
    "print('Precision: {:.2f}'.format(precision_lr))\n",
    "print('Recall: {:.2f}'.format(recall_lr))\n",
    "print('F1-score: {:.2f}'.format(f1_lr))\n",
    "print('Accuracy: {:.2f}'.format(acc_lr))"
   ]
  },
  {
   "attachments": {},
   "cell_type": "markdown",
   "metadata": {},
   "source": [
    "Hyper-parameter tuning"
   ]
  },
  {
   "cell_type": "code",
   "execution_count": 51,
   "metadata": {},
   "outputs": [
    {
     "name": "stderr",
     "output_type": "stream",
     "text": [
      "c:\\Users\\sadiq\\anaconda3\\envs\\tensorProject\\lib\\site-packages\\sklearn\\model_selection\\_validation.py:378: FitFailedWarning: \n",
      "215 fits failed out of a total of 500.\n",
      "The score on these train-test partitions for these parameters will be set to nan.\n",
      "If these failures are not expected, you can try to debug them by setting error_score='raise'.\n",
      "\n",
      "Below are more details about the failures:\n",
      "--------------------------------------------------------------------------------\n",
      "215 fits failed with the following error:\n",
      "Traceback (most recent call last):\n",
      "  File \"c:\\Users\\sadiq\\anaconda3\\envs\\tensorProject\\lib\\site-packages\\sklearn\\model_selection\\_validation.py\", line 686, in _fit_and_score\n",
      "    estimator.fit(X_train, y_train, **fit_params)\n",
      "  File \"c:\\Users\\sadiq\\anaconda3\\envs\\tensorProject\\lib\\site-packages\\sklearn\\linear_model\\_logistic.py\", line 1162, in fit\n",
      "    solver = _check_solver(self.solver, self.penalty, self.dual)\n",
      "  File \"c:\\Users\\sadiq\\anaconda3\\envs\\tensorProject\\lib\\site-packages\\sklearn\\linear_model\\_logistic.py\", line 54, in _check_solver\n",
      "    raise ValueError(\n",
      "ValueError: Solver lbfgs supports only 'l2' or 'none' penalties, got l1 penalty.\n",
      "\n",
      "  warnings.warn(some_fits_failed_message, FitFailedWarning)\n",
      "c:\\Users\\sadiq\\anaconda3\\envs\\tensorProject\\lib\\site-packages\\sklearn\\model_selection\\_search.py:952: UserWarning: One or more of the test scores are non-finite: [       nan 0.68419632        nan        nan 0.68827407 0.68348764\n",
      " 0.68309392 0.68835282 0.68228399 0.68248086 0.68458441        nan\n",
      "        nan        nan 0.68452818        nan        nan 0.68263834\n",
      " 0.68252585        nan        nan 0.68321204 0.68158657 0.68301518\n",
      "        nan 0.68369012        nan 0.68306581 0.69073197 0.68397135\n",
      " 0.68227838 0.68313329 0.68279583 0.69074323 0.68248085 0.68408383\n",
      " 0.6831558  0.68448319        nan        nan 0.68399947 0.68239649\n",
      " 0.68335265        nan        nan        nan 0.68294769 0.6839376\n",
      "        nan 0.68475315        nan 0.68308269        nan        nan\n",
      " 0.68302082        nan 0.6842132  0.6820534         nan        nan\n",
      " 0.68577681        nan        nan        nan        nan 0.68604116\n",
      "        nan        nan 0.68452255        nan        nan        nan\n",
      " 0.68496125        nan 0.68503438 0.68353826 0.68235149 0.68421883\n",
      " 0.68502312 0.68199714 0.68300394 0.68305455        nan        nan\n",
      "        nan 0.68365637        nan        nan 0.68591742        nan\n",
      " 0.6841907  0.68312205        nan 0.68391511 0.68360013        nan\n",
      "        nan 0.68405008 0.68219962 0.69108632]\n",
      "  warnings.warn(\n",
      "c:\\Users\\sadiq\\anaconda3\\envs\\tensorProject\\lib\\site-packages\\sklearn\\linear_model\\_logistic.py:458: ConvergenceWarning: lbfgs failed to converge (status=1):\n",
      "STOP: TOTAL NO. of ITERATIONS REACHED LIMIT.\n",
      "\n",
      "Increase the number of iterations (max_iter) or scale the data as shown in:\n",
      "    https://scikit-learn.org/stable/modules/preprocessing.html\n",
      "Please also refer to the documentation for alternative solver options:\n",
      "    https://scikit-learn.org/stable/modules/linear_model.html#logistic-regression\n",
      "  n_iter_i = _check_optimize_result(\n"
     ]
    },
    {
     "ename": "TypeError",
     "evalue": "sklearn.linear_model._logistic.LogisticRegression() argument after ** must be a mapping, not numpy.float64",
     "output_type": "error",
     "traceback": [
      "\u001b[1;31m---------------------------------------------------------------------------\u001b[0m",
      "\u001b[1;31mTypeError\u001b[0m                                 Traceback (most recent call last)",
      "\u001b[1;32md:\\Github\\Amazon-reviews\\final_submission.ipynb Cell 46\u001b[0m in \u001b[0;36m2\n\u001b[0;32m     <a href='vscode-notebook-cell:/d%3A/Github/Amazon-reviews/final_submission.ipynb#Y132sZmlsZQ%3D%3D?line=24'>25</a>\u001b[0m best_score \u001b[39m=\u001b[39m clf\u001b[39m.\u001b[39mbest_score_\n\u001b[0;32m     <a href='vscode-notebook-cell:/d%3A/Github/Amazon-reviews/final_submission.ipynb#Y132sZmlsZQ%3D%3D?line=26'>27</a>\u001b[0m \u001b[39m# create a new logistic regression model with the best hyperparameters\u001b[39;00m\n\u001b[1;32m---> <a href='vscode-notebook-cell:/d%3A/Github/Amazon-reviews/final_submission.ipynb#Y132sZmlsZQ%3D%3D?line=27'>28</a>\u001b[0m best_lr \u001b[39m=\u001b[39m LogisticRegression(\u001b[39m*\u001b[39m\u001b[39m*\u001b[39mbest_score)\n\u001b[0;32m     <a href='vscode-notebook-cell:/d%3A/Github/Amazon-reviews/final_submission.ipynb#Y132sZmlsZQ%3D%3D?line=29'>30</a>\u001b[0m \u001b[39m# train the model with the entire training set\u001b[39;00m\n\u001b[0;32m     <a href='vscode-notebook-cell:/d%3A/Github/Amazon-reviews/final_submission.ipynb#Y132sZmlsZQ%3D%3D?line=30'>31</a>\u001b[0m best_lr\u001b[39m.\u001b[39mfit(bag_of_words, y_train)\n",
      "\u001b[1;31mTypeError\u001b[0m: sklearn.linear_model._logistic.LogisticRegression() argument after ** must be a mapping, not numpy.float64"
     ]
    }
   ],
   "source": [
    "# define your logistic regression model\n",
    "lr_cv = LogisticRegression()\n",
    "\n",
    "# define the hyperparameters you want to tune and their range of values\n",
    "hyperparameters = {\n",
    "    'C': uniform(loc=0, scale=4),\n",
    "    'penalty': ['l1', 'l2']\n",
    "}\n",
    "\n",
    "# define your hyperparameter tuning process\n",
    "clf = RandomizedSearchCV(\n",
    "    lr_cv, \n",
    "    hyperparameters, \n",
    "    n_iter=100, \n",
    "    cv=5, \n",
    "    random_state=42, \n",
    "    n_jobs=-1\n",
    ")\n",
    "\n",
    "# fit the hyperparameter tuning process to your data\n",
    "clf.fit(bag_of_words, y_train)\n",
    "\n",
    "# get the best hyperparameters and the best score achieved\n",
    "best_params = clf.best_params_\n",
    "best_score = clf.best_score_\n",
    "\n"
   ]
  },
  {
   "cell_type": "code",
   "execution_count": 53,
   "metadata": {},
   "outputs": [
    {
     "name": "stderr",
     "output_type": "stream",
     "text": [
      "c:\\Users\\sadiq\\anaconda3\\envs\\tensorProject\\lib\\site-packages\\sklearn\\linear_model\\_logistic.py:458: ConvergenceWarning: lbfgs failed to converge (status=1):\n",
      "STOP: TOTAL NO. of ITERATIONS REACHED LIMIT.\n",
      "\n",
      "Increase the number of iterations (max_iter) or scale the data as shown in:\n",
      "    https://scikit-learn.org/stable/modules/preprocessing.html\n",
      "Please also refer to the documentation for alternative solver options:\n",
      "    https://scikit-learn.org/stable/modules/linear_model.html#logistic-regression\n",
      "  n_iter_i = _check_optimize_result(\n"
     ]
    }
   ],
   "source": [
    "# create a new logistic regression model with the best hyperparameters\n",
    "best_lr = LogisticRegression(**best_params)\n",
    "\n",
    "# train the model with the entire training set\n",
    "best_lr.fit(bag_of_words, y_train)\n",
    "\n",
    "lr_pred_best = best_lr.predict(vect.transform(lemma_process_test))\n",
    "precision_lr_best = precision_score(y_test, lr_pred_best, average='macro')\n",
    "recall_lr_best = recall_score(y_test, lr_pred_best, average='macro')\n",
    "f1_lr_best = f1_score(y_test, lr_pred_best, average='macro')\n",
    "acc_lr_best = accuracy_score(y_test, lr_pred_best)"
   ]
  },
  {
   "cell_type": "code",
   "execution_count": 54,
   "metadata": {},
   "outputs": [
    {
     "name": "stdout",
     "output_type": "stream",
     "text": [
      "Logistic Regression CV: \n",
      "Precision: 0.51\n",
      "Recall: 0.42\n",
      "F1-score: 0.45\n",
      "Accuracy: 0.70\n"
     ]
    }
   ],
   "source": [
    "print('Logistic Regression CV: ')\n",
    "print('Precision: {:.2f}'.format(precision_lr_best))\n",
    "print('Recall: {:.2f}'.format(recall_lr_best))\n",
    "print('F1-score: {:.2f}'.format(f1_lr_best))\n",
    "print('Accuracy: {:.2f}'.format(acc_lr_best))"
   ]
  },
  {
   "cell_type": "code",
   "execution_count": 62,
   "metadata": {},
   "outputs": [],
   "source": [
    "y_final = best_lr.predict(vect.transform(lemma_process_test_final))"
   ]
  },
  {
   "cell_type": "code",
   "execution_count": 65,
   "metadata": {},
   "outputs": [],
   "source": [
    "final_submission['overall'] = y_final # save the labels for your model to csv file, you willl use this for you Kaggle competition submission\n",
    "\n",
    "final_submission.to_csv('final_submission.csv', index=False)"
   ]
  },
  {
   "attachments": {},
   "cell_type": "markdown",
   "metadata": {},
   "source": [
    "##### Naive Bayes"
   ]
  },
  {
   "cell_type": "code",
   "execution_count": null,
   "metadata": {},
   "outputs": [],
   "source": [
    "# Train and evaluate a Naive Bayes classifier\n",
    "# nb = MultinomialNB()\n",
    "# nb.fit(X_train, y_train)\n",
    "# y_pred_nb = nb.predict(X_test)\n",
    "# precision_nb = precision_score(y_test, y_pred_nb, average='macro')\n",
    "# recall_nb = recall_score(y_test, y_pred_nb, average='macro')\n",
    "# f1_nb = f1_score(y_test, y_pred_nb, average='macro')"
   ]
  },
  {
   "attachments": {},
   "cell_type": "markdown",
   "metadata": {},
   "source": [
    "### Tf-idf vectorization"
   ]
  },
  {
   "cell_type": "code",
   "execution_count": 22,
   "metadata": {},
   "outputs": [],
   "source": [
    "vectorizer = TfidfVectorizer(min_df=15)\n",
    "\n",
    "tfidf_representation_train = vectorizer.fit_transform(lemma_process_train)\n",
    "\n",
    "# Convert the sparse matrix to a dense matrix and print the output\n",
    "# temp_df = pd.DataFrame(tfidf_representation.todense(), columns=vectorizer.get_feature_names())\n",
    "# print(temp_df)"
   ]
  },
  {
   "cell_type": "code",
   "execution_count": 53,
   "metadata": {},
   "outputs": [],
   "source": [
    "X_train_train, X_train_test, y_train_train, y_train_test = train_test_split(tfidf_representation_train, y_train, test_size=0.2, random_state=42)"
   ]
  },
  {
   "cell_type": "code",
   "execution_count": 55,
   "metadata": {},
   "outputs": [],
   "source": [
    "# Train and evaluate a logistic regression classifier\n",
    "lr = LogisticRegression(max_iter=1000)\n",
    "lr.fit(X_train_train, y_train_train)\n",
    "lr_pred = lr.predict(X_train_test)\n",
    "precision_lr = precision_score(y_train_test, lr_pred, average='macro')\n",
    "recall_lr = recall_score(y_train_test, lr_pred, average='macro')\n",
    "f1_lr = f1_score(y_train_test, lr_pred, average='macro')\n",
    "acc_lr = f1_score(y_train_test, lr_pred, average='macro')\n"
   ]
  },
  {
   "cell_type": "code",
   "execution_count": 57,
   "metadata": {},
   "outputs": [
    {
     "name": "stdout",
     "output_type": "stream",
     "text": [
      "Logistic Regression: \n",
      "Precision: 0.54\n",
      "Recall: 0.41\n",
      "F1-score: 0.45\n",
      "Accuracy: 0.45\n"
     ]
    }
   ],
   "source": [
    "print('Logistic Regression: ')\n",
    "print('Precision: {:.2f}'.format(precision_lr))\n",
    "print('Recall: {:.2f}'.format(recall_lr))\n",
    "print('F1-score: {:.2f}'.format(f1_lr))\n",
    "print('Accuracy: {:.2f}'.format(acc_lr))"
   ]
  },
  {
   "cell_type": "code",
   "execution_count": 21,
   "metadata": {},
   "outputs": [],
   "source": [
    "test = pd.read_csv('test.csv')"
   ]
  },
  {
   "cell_type": "code",
   "execution_count": 24,
   "metadata": {},
   "outputs": [
    {
     "data": {
      "text/html": [
       "<div>\n",
       "<style scoped>\n",
       "    .dataframe tbody tr th:only-of-type {\n",
       "        vertical-align: middle;\n",
       "    }\n",
       "\n",
       "    .dataframe tbody tr th {\n",
       "        vertical-align: top;\n",
       "    }\n",
       "\n",
       "    .dataframe thead th {\n",
       "        text-align: right;\n",
       "    }\n",
       "</style>\n",
       "<table border=\"1\" class=\"dataframe\">\n",
       "  <thead>\n",
       "    <tr style=\"text-align: right;\">\n",
       "      <th></th>\n",
       "      <th>id</th>\n",
       "      <th>Review</th>\n",
       "    </tr>\n",
       "  </thead>\n",
       "  <tbody>\n",
       "    <tr>\n",
       "      <th>0</th>\n",
       "      <td>0</td>\n",
       "      <td>Bought for a Smith and Wesson M&amp;P15 fits perfe...</td>\n",
       "    </tr>\n",
       "    <tr>\n",
       "      <th>1</th>\n",
       "      <td>1</td>\n",
       "      <td>Beware of the charts listed on Butler Creek's ...</td>\n",
       "    </tr>\n",
       "    <tr>\n",
       "      <th>2</th>\n",
       "      <td>2</td>\n",
       "      <td>I've only used this once to sight in a scope. ...</td>\n",
       "    </tr>\n",
       "    <tr>\n",
       "      <th>3</th>\n",
       "      <td>3</td>\n",
       "      <td>I need more of these!!! This thing makes shoot...</td>\n",
       "    </tr>\n",
       "    <tr>\n",
       "      <th>4</th>\n",
       "      <td>4</td>\n",
       "      <td>Grabber Outdoors Original Space Brand Sportsma...</td>\n",
       "    </tr>\n",
       "  </tbody>\n",
       "</table>\n",
       "</div>"
      ],
      "text/plain": [
       "   id                                             Review\n",
       "0   0  Bought for a Smith and Wesson M&P15 fits perfe...\n",
       "1   1  Beware of the charts listed on Butler Creek's ...\n",
       "2   2  I've only used this once to sight in a scope. ...\n",
       "3   3  I need more of these!!! This thing makes shoot...\n",
       "4   4  Grabber Outdoors Original Space Brand Sportsma..."
      ]
     },
     "execution_count": 24,
     "metadata": {},
     "output_type": "execute_result"
    }
   ],
   "source": [
    "test.head()"
   ]
  },
  {
   "cell_type": "code",
   "execution_count": 22,
   "metadata": {},
   "outputs": [
    {
     "ename": "NameError",
     "evalue": "name 'vectorizer' is not defined",
     "output_type": "error",
     "traceback": [
      "\u001b[1;31m---------------------------------------------------------------------------\u001b[0m",
      "\u001b[1;31mNameError\u001b[0m                                 Traceback (most recent call last)",
      "\u001b[1;32md:\\Sadiq\\Uni\\Year 4\\F20AA - Text Analytics\\cw2\\final_submission.ipynb Cell 37\u001b[0m in \u001b[0;36m1\n\u001b[1;32m----> <a href='vscode-notebook-cell:/d%3A/Sadiq/Uni/Year%204/F20AA%20-%20Text%20Analytics/cw2/final_submission.ipynb#X51sZmlsZQ%3D%3D?line=0'>1</a>\u001b[0m X_test \u001b[39m=\u001b[39m vectorizer\u001b[39m.\u001b[39mtransform(test[\u001b[39m'\u001b[39m\u001b[39mReview\u001b[39m\u001b[39m'\u001b[39m])\n",
      "\u001b[1;31mNameError\u001b[0m: name 'vectorizer' is not defined"
     ]
    }
   ],
   "source": [
    "X_test = vectorizer.transform(test['Review'])"
   ]
  },
  {
   "cell_type": "code",
   "execution_count": 26,
   "metadata": {},
   "outputs": [
    {
     "name": "stderr",
     "output_type": "stream",
     "text": [
      "c:\\Users\\sadiq\\anaconda3\\envs\\tensorProject\\lib\\site-packages\\sklearn\\linear_model\\_logistic.py:444: ConvergenceWarning: lbfgs failed to converge (status=1):\n",
      "STOP: TOTAL NO. of ITERATIONS REACHED LIMIT.\n",
      "\n",
      "Increase the number of iterations (max_iter) or scale the data as shown in:\n",
      "    https://scikit-learn.org/stable/modules/preprocessing.html\n",
      "Please also refer to the documentation for alternative solver options:\n",
      "    https://scikit-learn.org/stable/modules/linear_model.html#logistic-regression\n",
      "  n_iter_i = _check_optimize_result(\n"
     ]
    },
    {
     "data": {
      "text/html": [
       "<style>#sk-container-id-1 {color: black;background-color: white;}#sk-container-id-1 pre{padding: 0;}#sk-container-id-1 div.sk-toggleable {background-color: white;}#sk-container-id-1 label.sk-toggleable__label {cursor: pointer;display: block;width: 100%;margin-bottom: 0;padding: 0.3em;box-sizing: border-box;text-align: center;}#sk-container-id-1 label.sk-toggleable__label-arrow:before {content: \"▸\";float: left;margin-right: 0.25em;color: #696969;}#sk-container-id-1 label.sk-toggleable__label-arrow:hover:before {color: black;}#sk-container-id-1 div.sk-estimator:hover label.sk-toggleable__label-arrow:before {color: black;}#sk-container-id-1 div.sk-toggleable__content {max-height: 0;max-width: 0;overflow: hidden;text-align: left;background-color: #f0f8ff;}#sk-container-id-1 div.sk-toggleable__content pre {margin: 0.2em;color: black;border-radius: 0.25em;background-color: #f0f8ff;}#sk-container-id-1 input.sk-toggleable__control:checked~div.sk-toggleable__content {max-height: 200px;max-width: 100%;overflow: auto;}#sk-container-id-1 input.sk-toggleable__control:checked~label.sk-toggleable__label-arrow:before {content: \"▾\";}#sk-container-id-1 div.sk-estimator input.sk-toggleable__control:checked~label.sk-toggleable__label {background-color: #d4ebff;}#sk-container-id-1 div.sk-label input.sk-toggleable__control:checked~label.sk-toggleable__label {background-color: #d4ebff;}#sk-container-id-1 input.sk-hidden--visually {border: 0;clip: rect(1px 1px 1px 1px);clip: rect(1px, 1px, 1px, 1px);height: 1px;margin: -1px;overflow: hidden;padding: 0;position: absolute;width: 1px;}#sk-container-id-1 div.sk-estimator {font-family: monospace;background-color: #f0f8ff;border: 1px dotted black;border-radius: 0.25em;box-sizing: border-box;margin-bottom: 0.5em;}#sk-container-id-1 div.sk-estimator:hover {background-color: #d4ebff;}#sk-container-id-1 div.sk-parallel-item::after {content: \"\";width: 100%;border-bottom: 1px solid gray;flex-grow: 1;}#sk-container-id-1 div.sk-label:hover label.sk-toggleable__label {background-color: #d4ebff;}#sk-container-id-1 div.sk-serial::before {content: \"\";position: absolute;border-left: 1px solid gray;box-sizing: border-box;top: 0;bottom: 0;left: 50%;z-index: 0;}#sk-container-id-1 div.sk-serial {display: flex;flex-direction: column;align-items: center;background-color: white;padding-right: 0.2em;padding-left: 0.2em;position: relative;}#sk-container-id-1 div.sk-item {position: relative;z-index: 1;}#sk-container-id-1 div.sk-parallel {display: flex;align-items: stretch;justify-content: center;background-color: white;position: relative;}#sk-container-id-1 div.sk-item::before, #sk-container-id-1 div.sk-parallel-item::before {content: \"\";position: absolute;border-left: 1px solid gray;box-sizing: border-box;top: 0;bottom: 0;left: 50%;z-index: -1;}#sk-container-id-1 div.sk-parallel-item {display: flex;flex-direction: column;z-index: 1;position: relative;background-color: white;}#sk-container-id-1 div.sk-parallel-item:first-child::after {align-self: flex-end;width: 50%;}#sk-container-id-1 div.sk-parallel-item:last-child::after {align-self: flex-start;width: 50%;}#sk-container-id-1 div.sk-parallel-item:only-child::after {width: 0;}#sk-container-id-1 div.sk-dashed-wrapped {border: 1px dashed gray;margin: 0 0.4em 0.5em 0.4em;box-sizing: border-box;padding-bottom: 0.4em;background-color: white;}#sk-container-id-1 div.sk-label label {font-family: monospace;font-weight: bold;display: inline-block;line-height: 1.2em;}#sk-container-id-1 div.sk-label-container {text-align: center;}#sk-container-id-1 div.sk-container {/* jupyter's `normalize.less` sets `[hidden] { display: none; }` but bootstrap.min.css set `[hidden] { display: none !important; }` so we also need the `!important` here to be able to override the default hidden behavior on the sphinx rendered scikit-learn.org. See: https://github.com/scikit-learn/scikit-learn/issues/21755 */display: inline-block !important;position: relative;}#sk-container-id-1 div.sk-text-repr-fallback {display: none;}</style><div id=\"sk-container-id-1\" class=\"sk-top-container\"><div class=\"sk-text-repr-fallback\"><pre>LogisticRegression()</pre><b>In a Jupyter environment, please rerun this cell to show the HTML representation or trust the notebook. <br />On GitHub, the HTML representation is unable to render, please try loading this page with nbviewer.org.</b></div><div class=\"sk-container\" hidden><div class=\"sk-item\"><div class=\"sk-estimator sk-toggleable\"><input class=\"sk-toggleable__control sk-hidden--visually\" id=\"sk-estimator-id-1\" type=\"checkbox\" checked><label for=\"sk-estimator-id-1\" class=\"sk-toggleable__label sk-toggleable__label-arrow\">LogisticRegression</label><div class=\"sk-toggleable__content\"><pre>LogisticRegression()</pre></div></div></div></div></div>"
      ],
      "text/plain": [
       "LogisticRegression()"
      ]
     },
     "execution_count": 26,
     "metadata": {},
     "output_type": "execute_result"
    }
   ],
   "source": [
    "lr = LogisticRegression()\n",
    "lr.fit(tfidf_representation_train, y_train)"
   ]
  },
  {
   "cell_type": "code",
   "execution_count": 27,
   "metadata": {},
   "outputs": [],
   "source": [
    "y_test = lr.predict(X_test) "
   ]
  },
  {
   "cell_type": "code",
   "execution_count": 29,
   "metadata": {},
   "outputs": [
    {
     "data": {
      "text/html": [
       "<div>\n",
       "<style scoped>\n",
       "    .dataframe tbody tr th:only-of-type {\n",
       "        vertical-align: middle;\n",
       "    }\n",
       "\n",
       "    .dataframe tbody tr th {\n",
       "        vertical-align: top;\n",
       "    }\n",
       "\n",
       "    .dataframe thead th {\n",
       "        text-align: right;\n",
       "    }\n",
       "</style>\n",
       "<table border=\"1\" class=\"dataframe\">\n",
       "  <thead>\n",
       "    <tr style=\"text-align: right;\">\n",
       "      <th></th>\n",
       "      <th>id</th>\n",
       "      <th>overall</th>\n",
       "    </tr>\n",
       "  </thead>\n",
       "  <tbody>\n",
       "    <tr>\n",
       "      <th>0</th>\n",
       "      <td>0</td>\n",
       "      <td>3</td>\n",
       "    </tr>\n",
       "    <tr>\n",
       "      <th>1</th>\n",
       "      <td>1</td>\n",
       "      <td>5</td>\n",
       "    </tr>\n",
       "    <tr>\n",
       "      <th>2</th>\n",
       "      <td>2</td>\n",
       "      <td>5</td>\n",
       "    </tr>\n",
       "    <tr>\n",
       "      <th>3</th>\n",
       "      <td>3</td>\n",
       "      <td>4</td>\n",
       "    </tr>\n",
       "    <tr>\n",
       "      <th>4</th>\n",
       "      <td>4</td>\n",
       "      <td>5</td>\n",
       "    </tr>\n",
       "  </tbody>\n",
       "</table>\n",
       "</div>"
      ],
      "text/plain": [
       "   id  overall\n",
       "0   0        3\n",
       "1   1        5\n",
       "2   2        5\n",
       "3   3        4\n",
       "4   4        5"
      ]
     },
     "execution_count": 29,
     "metadata": {},
     "output_type": "execute_result"
    }
   ],
   "source": [
    "sample.head()"
   ]
  },
  {
   "cell_type": "code",
   "execution_count": 30,
   "metadata": {},
   "outputs": [
    {
     "data": {
      "text/plain": [
       "array([5, 5, 4, 5, 5], dtype=int64)"
      ]
     },
     "execution_count": 30,
     "metadata": {},
     "output_type": "execute_result"
    }
   ],
   "source": [
    "y_test[:5]"
   ]
  },
  {
   "cell_type": "code",
   "execution_count": 31,
   "metadata": {},
   "outputs": [
    {
     "name": "stdout",
     "output_type": "stream",
     "text": [
      "Test set score:0.20\n"
     ]
    }
   ],
   "source": [
    "print(\"Test set score:{:.2f}\".format(np.mean(y_test==sample.overall)))"
   ]
  },
  {
   "cell_type": "code",
   "execution_count": 73,
   "metadata": {},
   "outputs": [],
   "source": [
    "sample['overall'] = y_test # save the labels for your model to csv file, you willl use this for you Kaggle competition submission\n",
    "\n",
    "sample.to_csv('final_submission.csv', index=False)"
   ]
  },
  {
   "cell_type": "code",
   "execution_count": 33,
   "metadata": {},
   "outputs": [
    {
     "name": "stderr",
     "output_type": "stream",
     "text": [
      "c:\\Users\\sadiq\\anaconda3\\envs\\tensorProject\\lib\\site-packages\\sklearn\\model_selection\\_validation.py:378: FitFailedWarning: \n",
      "215 fits failed out of a total of 500.\n",
      "The score on these train-test partitions for these parameters will be set to nan.\n",
      "If these failures are not expected, you can try to debug them by setting error_score='raise'.\n",
      "\n",
      "Below are more details about the failures:\n",
      "--------------------------------------------------------------------------------\n",
      "215 fits failed with the following error:\n",
      "Traceback (most recent call last):\n",
      "  File \"c:\\Users\\sadiq\\anaconda3\\envs\\tensorProject\\lib\\site-packages\\sklearn\\model_selection\\_validation.py\", line 686, in _fit_and_score\n",
      "    estimator.fit(X_train, y_train, **fit_params)\n",
      "  File \"c:\\Users\\sadiq\\anaconda3\\envs\\tensorProject\\lib\\site-packages\\sklearn\\linear_model\\_logistic.py\", line 1091, in fit\n",
      "    solver = _check_solver(self.solver, self.penalty, self.dual)\n",
      "  File \"c:\\Users\\sadiq\\anaconda3\\envs\\tensorProject\\lib\\site-packages\\sklearn\\linear_model\\_logistic.py\", line 61, in _check_solver\n",
      "    raise ValueError(\n",
      "ValueError: Solver lbfgs supports only 'l2' or 'none' penalties, got l1 penalty.\n",
      "\n",
      "  warnings.warn(some_fits_failed_message, FitFailedWarning)\n",
      "c:\\Users\\sadiq\\anaconda3\\envs\\tensorProject\\lib\\site-packages\\sklearn\\model_selection\\_search.py:953: UserWarning: One or more of the test scores are non-finite: [       nan 0.69822671        nan        nan 0.69371813 0.69743928\n",
      " 0.69573843 0.69356965 0.6951625  0.63561057 0.69785774        nan\n",
      "        nan        nan 0.69775875        nan        nan 0.69650787\n",
      " 0.6961434         nan        nan 0.69654387 0.6951445  0.69626489\n",
      "        nan 0.69821771        nan 0.69625589 0.68848962 0.6972053\n",
      " 0.69625139 0.69699832 0.69690833 0.68770669 0.69599041 0.6972188\n",
      " 0.69693983 0.69769126        nan        nan 0.69707481 0.69682284\n",
      " 0.69732229        nan        nan        nan 0.69564395 0.69742578\n",
      "        nan 0.69788924        nan 0.69641338        nan        nan\n",
      " 0.69572944        nan 0.69778575 0.69591393        nan        nan\n",
      " 0.6971738         nan        nan        nan        nan 0.69669235\n",
      "        nan        nan 0.69786225        nan        nan        nan\n",
      " 0.69781724        nan 0.69750227 0.69578343 0.69611191 0.69698932\n",
      " 0.69804222 0.69483852 0.69629639 0.69709282        nan        nan\n",
      "        nan 0.69791174        nan        nan 0.69707931        nan\n",
      " 0.69804222 0.69703882        nan 0.69757427 0.69783974        nan\n",
      "        nan 0.69742578 0.6971603  0.68826914]\n",
      "  warnings.warn(\n",
      "c:\\Users\\sadiq\\anaconda3\\envs\\tensorProject\\lib\\site-packages\\sklearn\\linear_model\\_logistic.py:444: ConvergenceWarning: lbfgs failed to converge (status=1):\n",
      "STOP: TOTAL NO. of ITERATIONS REACHED LIMIT.\n",
      "\n",
      "Increase the number of iterations (max_iter) or scale the data as shown in:\n",
      "    https://scikit-learn.org/stable/modules/preprocessing.html\n",
      "Please also refer to the documentation for alternative solver options:\n",
      "    https://scikit-learn.org/stable/modules/linear_model.html#logistic-regression\n",
      "  n_iter_i = _check_optimize_result(\n",
      "c:\\Users\\sadiq\\anaconda3\\envs\\tensorProject\\lib\\site-packages\\sklearn\\linear_model\\_logistic.py:444: ConvergenceWarning: lbfgs failed to converge (status=1):\n",
      "STOP: TOTAL NO. of ITERATIONS REACHED LIMIT.\n",
      "\n",
      "Increase the number of iterations (max_iter) or scale the data as shown in:\n",
      "    https://scikit-learn.org/stable/modules/preprocessing.html\n",
      "Please also refer to the documentation for alternative solver options:\n",
      "    https://scikit-learn.org/stable/modules/linear_model.html#logistic-regression\n",
      "  n_iter_i = _check_optimize_result(\n"
     ]
    },
    {
     "data": {
      "text/html": [
       "<style>#sk-container-id-2 {color: black;background-color: white;}#sk-container-id-2 pre{padding: 0;}#sk-container-id-2 div.sk-toggleable {background-color: white;}#sk-container-id-2 label.sk-toggleable__label {cursor: pointer;display: block;width: 100%;margin-bottom: 0;padding: 0.3em;box-sizing: border-box;text-align: center;}#sk-container-id-2 label.sk-toggleable__label-arrow:before {content: \"▸\";float: left;margin-right: 0.25em;color: #696969;}#sk-container-id-2 label.sk-toggleable__label-arrow:hover:before {color: black;}#sk-container-id-2 div.sk-estimator:hover label.sk-toggleable__label-arrow:before {color: black;}#sk-container-id-2 div.sk-toggleable__content {max-height: 0;max-width: 0;overflow: hidden;text-align: left;background-color: #f0f8ff;}#sk-container-id-2 div.sk-toggleable__content pre {margin: 0.2em;color: black;border-radius: 0.25em;background-color: #f0f8ff;}#sk-container-id-2 input.sk-toggleable__control:checked~div.sk-toggleable__content {max-height: 200px;max-width: 100%;overflow: auto;}#sk-container-id-2 input.sk-toggleable__control:checked~label.sk-toggleable__label-arrow:before {content: \"▾\";}#sk-container-id-2 div.sk-estimator input.sk-toggleable__control:checked~label.sk-toggleable__label {background-color: #d4ebff;}#sk-container-id-2 div.sk-label input.sk-toggleable__control:checked~label.sk-toggleable__label {background-color: #d4ebff;}#sk-container-id-2 input.sk-hidden--visually {border: 0;clip: rect(1px 1px 1px 1px);clip: rect(1px, 1px, 1px, 1px);height: 1px;margin: -1px;overflow: hidden;padding: 0;position: absolute;width: 1px;}#sk-container-id-2 div.sk-estimator {font-family: monospace;background-color: #f0f8ff;border: 1px dotted black;border-radius: 0.25em;box-sizing: border-box;margin-bottom: 0.5em;}#sk-container-id-2 div.sk-estimator:hover {background-color: #d4ebff;}#sk-container-id-2 div.sk-parallel-item::after {content: \"\";width: 100%;border-bottom: 1px solid gray;flex-grow: 1;}#sk-container-id-2 div.sk-label:hover label.sk-toggleable__label {background-color: #d4ebff;}#sk-container-id-2 div.sk-serial::before {content: \"\";position: absolute;border-left: 1px solid gray;box-sizing: border-box;top: 0;bottom: 0;left: 50%;z-index: 0;}#sk-container-id-2 div.sk-serial {display: flex;flex-direction: column;align-items: center;background-color: white;padding-right: 0.2em;padding-left: 0.2em;position: relative;}#sk-container-id-2 div.sk-item {position: relative;z-index: 1;}#sk-container-id-2 div.sk-parallel {display: flex;align-items: stretch;justify-content: center;background-color: white;position: relative;}#sk-container-id-2 div.sk-item::before, #sk-container-id-2 div.sk-parallel-item::before {content: \"\";position: absolute;border-left: 1px solid gray;box-sizing: border-box;top: 0;bottom: 0;left: 50%;z-index: -1;}#sk-container-id-2 div.sk-parallel-item {display: flex;flex-direction: column;z-index: 1;position: relative;background-color: white;}#sk-container-id-2 div.sk-parallel-item:first-child::after {align-self: flex-end;width: 50%;}#sk-container-id-2 div.sk-parallel-item:last-child::after {align-self: flex-start;width: 50%;}#sk-container-id-2 div.sk-parallel-item:only-child::after {width: 0;}#sk-container-id-2 div.sk-dashed-wrapped {border: 1px dashed gray;margin: 0 0.4em 0.5em 0.4em;box-sizing: border-box;padding-bottom: 0.4em;background-color: white;}#sk-container-id-2 div.sk-label label {font-family: monospace;font-weight: bold;display: inline-block;line-height: 1.2em;}#sk-container-id-2 div.sk-label-container {text-align: center;}#sk-container-id-2 div.sk-container {/* jupyter's `normalize.less` sets `[hidden] { display: none; }` but bootstrap.min.css set `[hidden] { display: none !important; }` so we also need the `!important` here to be able to override the default hidden behavior on the sphinx rendered scikit-learn.org. See: https://github.com/scikit-learn/scikit-learn/issues/21755 */display: inline-block !important;position: relative;}#sk-container-id-2 div.sk-text-repr-fallback {display: none;}</style><div id=\"sk-container-id-2\" class=\"sk-top-container\"><div class=\"sk-text-repr-fallback\"><pre>LogisticRegression(C=0.7337391594646552)</pre><b>In a Jupyter environment, please rerun this cell to show the HTML representation or trust the notebook. <br />On GitHub, the HTML representation is unable to render, please try loading this page with nbviewer.org.</b></div><div class=\"sk-container\" hidden><div class=\"sk-item\"><div class=\"sk-estimator sk-toggleable\"><input class=\"sk-toggleable__control sk-hidden--visually\" id=\"sk-estimator-id-2\" type=\"checkbox\" checked><label for=\"sk-estimator-id-2\" class=\"sk-toggleable__label sk-toggleable__label-arrow\">LogisticRegression</label><div class=\"sk-toggleable__content\"><pre>LogisticRegression(C=0.7337391594646552)</pre></div></div></div></div></div>"
      ],
      "text/plain": [
       "LogisticRegression(C=0.7337391594646552)"
      ]
     },
     "execution_count": 33,
     "metadata": {},
     "output_type": "execute_result"
    }
   ],
   "source": [
    "# define your logistic regression model\n",
    "lr = LogisticRegression()\n",
    "\n",
    "# define the hyperparameters you want to tune and their range of values\n",
    "hyperparameters = {\n",
    "    'C': uniform(loc=0, scale=4),\n",
    "    'penalty': ['l1', 'l2']\n",
    "}\n",
    "\n",
    "# define your hyperparameter tuning process\n",
    "clf = RandomizedSearchCV(\n",
    "    lr, \n",
    "    hyperparameters, \n",
    "    n_iter=100, \n",
    "    cv=5, \n",
    "    random_state=42, \n",
    "    n_jobs=-1\n",
    ")\n",
    "\n",
    "# fit the hyperparameter tuning process to your data\n",
    "clf.fit(tfidf_representation_train, y_train)\n",
    "\n",
    "# get the best hyperparameters and the best score achieved\n",
    "best_params = clf.best_params_\n",
    "best_score = clf.best_score_\n",
    "\n",
    "# create a new logistic regression model with the best hyperparameters\n",
    "best_lr = LogisticRegression(**best_params)\n",
    "\n",
    "# train the model with the entire training set\n",
    "best_lr.fit(tfidf_representation_train, y_train)\n"
   ]
  },
  {
   "cell_type": "code",
   "execution_count": 34,
   "metadata": {},
   "outputs": [],
   "source": [
    "y_best_test = best_lr.predict(X_test)"
   ]
  },
  {
   "cell_type": "code",
   "execution_count": 35,
   "metadata": {},
   "outputs": [
    {
     "name": "stdout",
     "output_type": "stream",
     "text": [
      "Best Test set score:0.20\n"
     ]
    }
   ],
   "source": [
    "print(\"Best Test set score:{:.2f}\".format(np.mean(y_best_test==sample.overall)))"
   ]
  },
  {
   "cell_type": "code",
   "execution_count": 82,
   "metadata": {},
   "outputs": [],
   "source": [
    "sample['overall'] = y_best_test # save the labels for your model to csv file, you willl use this for you Kaggle competition submission\n",
    "\n",
    "sample.to_csv('final_submission.csv', index=False)"
   ]
  },
  {
   "cell_type": "code",
   "execution_count": 23,
   "metadata": {},
   "outputs": [
    {
     "data": {
      "text/plain": [
       "[\"This a really cool (but time-tested) design. The carbon steel blade gets really sharp but does require maintenance from time to time. I oiled the locking screw-top and blade; after that it opens easily. I've been using mine for a couple of months now and am not disappointed. It's a solid knife and at an affordable price. Nice knife!\",\n",
       " \"I liked the first pair so well I bought several more. I have found it's usually worthwhile to buy the higher priced products in the long run and these socks are no exception. Better comfort, moisture wicking, arch support, etc. My go to sock in hot weather. I use these road, cx, & single track cycling Excellent\",\n",
       " \"I took them to the range to put them to the test. When you adjust the volume you can hear people talking without a problem and the shots are muffled. I tried them today mowing the lawn while having my music going. The sound of the music was really good. I was a little shocked.  Overall a great buy. I just ordered a second set for my wife. I will say it's a 4 out 5 for hearing protection. Go for it! Great Sound Protection\",\n",
       " \"What can you say about a yoga block?  These are solid and sturdy - not a &#34;name-brand&#34;. so I feared it would be less dense, but it's just the same as the higher priced blocks.  Supportive when you need them, light and easy to store when you don't. Less expensive but good quality blocks\",\n",
       " \"After reading many reviews I decided on this light.  I am very satisfied after a few days of use.  It is very bright and easy to install. I can't comment on the battery life yet but was happy it came with batteries. very good light for the money\"]"
      ]
     },
     "execution_count": 23,
     "metadata": {},
     "output_type": "execute_result"
    }
   ],
   "source": [
    "reviews = train['Review'].tolist()\n",
    "\n",
    "reviews[:5]"
   ]
  },
  {
   "cell_type": "code",
   "execution_count": 24,
   "metadata": {},
   "outputs": [
    {
     "data": {
      "image/png": "[encoded data removed]",
      "text/plain": [
       "<Figure size 640x480 with 1 Axes>"
      ]
     },
     "metadata": {},
     "output_type": "display_data"
    }
   ],
   "source": [
    "from sklearn.decomposition import PCA\n",
    "import matplotlib.pyplot as plt\n",
    "\n",
    "# Create TfidfVectorizer object with bigram feature extraction\n",
    "vectorizer = TfidfVectorizer(ngram_range=(2, 2))\n",
    "\n",
    "# Fit the vectorizer to the text data and transform the text data into bigram tf-idf features\n",
    "bigram_tfidf_features = vectorizer.fit_transform(reviews[:5])\n",
    "\n",
    "# Print the bigram tf-idf features                                                                                                              \n",
    "# print(bigram_tfidf_features.toarray())\n",
    "\n",
    "# Convert the sparse matrix to a dense matrix and print the output\n",
    "# df = pd.DataFrame(bigram_tfidf_features.todense(), columns=vectorizer.get_feature_names())\n",
    "# print(df)\n",
    "\n",
    "# Apply PCA to reduce the dimensionality of the feature space to two dimensions\n",
    "pca = PCA(n_components=2)\n",
    "bigram_tfidf_features_pca = pca.fit_transform(bigram_tfidf_features.toarray())\n",
    "\n",
    "# Plot the data points on a scatter plot\n",
    "plt.scatter(bigram_tfidf_features_pca[:, 0], bigram_tfidf_features_pca[:, 1])\n",
    "plt.show()"
   ]
  },
  {
   "cell_type": "code",
   "execution_count": 25,
   "metadata": {},
   "outputs": [
    {
     "name": "stdout",
     "output_type": "stream",
     "text": [
      "Collecting mglearn\n",
      "  Downloading mglearn-0.1.9.tar.gz (540 kB)\n",
      "     ------------------------------------- 540.1/540.1 kB 11.3 MB/s eta 0:00:00\n",
      "  Preparing metadata (setup.py): started\n",
      "  Preparing metadata (setup.py): finished with status 'done'\n",
      "Requirement already satisfied: numpy in c:\\users\\sadiq\\anaconda3\\envs\\tensorproject\\lib\\site-packages (from mglearn) (1.23.5)\n",
      "Requirement already satisfied: matplotlib in c:\\users\\sadiq\\anaconda3\\envs\\tensorproject\\lib\\site-packages (from mglearn) (3.7.1)\n",
      "Requirement already satisfied: scikit-learn in c:\\users\\sadiq\\anaconda3\\envs\\tensorproject\\lib\\site-packages (from mglearn) (1.2.2)\n",
      "Requirement already satisfied: pandas in c:\\users\\sadiq\\anaconda3\\envs\\tensorproject\\lib\\site-packages (from mglearn) (1.5.0)\n",
      "Requirement already satisfied: pillow in c:\\users\\sadiq\\anaconda3\\envs\\tensorproject\\lib\\site-packages (from mglearn) (9.4.0)\n",
      "Requirement already satisfied: cycler in c:\\users\\sadiq\\anaconda3\\envs\\tensorproject\\lib\\site-packages (from mglearn) (0.11.0)\n",
      "Collecting imageio\n",
      "  Downloading imageio-2.27.0-py3-none-any.whl (3.4 MB)\n",
      "     ---------------------------------------- 3.4/3.4 MB 17.9 MB/s eta 0:00:00\n",
      "Requirement already satisfied: joblib in c:\\users\\sadiq\\anaconda3\\envs\\tensorproject\\lib\\site-packages (from mglearn) (1.2.0)\n",
      "Requirement already satisfied: python-dateutil>=2.7 in c:\\users\\sadiq\\appdata\\roaming\\python\\python39\\site-packages (from matplotlib->mglearn) (2.8.2)\n",
      "Requirement already satisfied: pyparsing>=2.3.1 in c:\\users\\sadiq\\anaconda3\\envs\\tensorproject\\lib\\site-packages (from matplotlib->mglearn) (3.0.9)\n",
      "Requirement already satisfied: importlib-resources>=3.2.0 in c:\\users\\sadiq\\anaconda3\\envs\\tensorproject\\lib\\site-packages (from matplotlib->mglearn) (5.12.0)\n",
      "Requirement already satisfied: fonttools>=4.22.0 in c:\\users\\sadiq\\anaconda3\\envs\\tensorproject\\lib\\site-packages (from matplotlib->mglearn) (4.39.3)\n",
      "Requirement already satisfied: kiwisolver>=1.0.1 in c:\\users\\sadiq\\anaconda3\\envs\\tensorproject\\lib\\site-packages (from matplotlib->mglearn) (1.4.4)\n",
      "Requirement already satisfied: contourpy>=1.0.1 in c:\\users\\sadiq\\anaconda3\\envs\\tensorproject\\lib\\site-packages (from matplotlib->mglearn) (1.0.7)\n",
      "Requirement already satisfied: packaging>=20.0 in c:\\users\\sadiq\\anaconda3\\envs\\tensorproject\\lib\\site-packages (from matplotlib->mglearn) (21.3)\n",
      "Requirement already satisfied: pytz>=2020.1 in c:\\users\\sadiq\\anaconda3\\envs\\tensorproject\\lib\\site-packages (from pandas->mglearn) (2022.2.1)\n",
      "Requirement already satisfied: scipy>=1.3.2 in c:\\users\\sadiq\\anaconda3\\envs\\tensorproject\\lib\\site-packages (from scikit-learn->mglearn) (1.10.1)\n",
      "Requirement already satisfied: threadpoolctl>=2.0.0 in c:\\users\\sadiq\\anaconda3\\envs\\tensorproject\\lib\\site-packages (from scikit-learn->mglearn) (3.1.0)\n",
      "Requirement already satisfied: zipp>=3.1.0 in c:\\users\\sadiq\\anaconda3\\envs\\tensorproject\\lib\\site-packages (from importlib-resources>=3.2.0->matplotlib->mglearn) (3.15.0)\n",
      "Requirement already satisfied: six>=1.5 in c:\\users\\sadiq\\appdata\\roaming\\python\\python39\\site-packages (from python-dateutil>=2.7->matplotlib->mglearn) (1.15.0)\n",
      "Building wheels for collected packages: mglearn\n",
      "  Building wheel for mglearn (setup.py): started\n",
      "  Building wheel for mglearn (setup.py): finished with status 'done'\n",
      "  Created wheel for mglearn: filename=mglearn-0.1.9-py2.py3-none-any.whl size=582621 sha256=770f9e98d03336a147cc63abff433644eecb8b620b2611f03e8e209b12176fa1\n",
      "  Stored in directory: c:\\users\\sadiq\\appdata\\local\\pip\\cache\\wheels\\df\\30\\8a\\1e2c8f144c9d411b0688f628d496d2db8f61b6d14bcedaa1df\n",
      "Successfully built mglearn\n",
      "Installing collected packages: imageio, mglearn\n",
      "Successfully installed imageio-2.27.0 mglearn-0.1.9\n",
      "Collecting joblib==1.1.0\n",
      "  Downloading joblib-1.1.0-py2.py3-none-any.whl (306 kB)\n",
      "     -------------------------------------- 307.0/307.0 kB 9.6 MB/s eta 0:00:00\n",
      "Installing collected packages: joblib\n",
      "  Attempting uninstall: joblib\n",
      "    Found existing installation: joblib 1.2.0\n",
      "    Uninstalling joblib-1.2.0:\n",
      "      Successfully uninstalled joblib-1.2.0\n",
      "Successfully installed joblib-1.1.0\n"
     ]
    },
    {
     "name": "stderr",
     "output_type": "stream",
     "text": [
      "ERROR: pip's dependency resolver does not currently take into account all the packages that are installed. This behaviour is the source of the following dependency conflicts.\n",
      "scikit-learn 1.2.2 requires joblib>=1.1.1, but you have joblib 1.1.0 which is incompatible.\n"
     ]
    }
   ],
   "source": [
    "! pip install mglearn\n",
    "! pip install joblib==1.1.0"
   ]
  },
  {
   "cell_type": "code",
   "execution_count": 27,
   "metadata": {},
   "outputs": [
    {
     "ename": "ImportError",
     "evalue": "\n`load_boston` has been removed from scikit-learn since version 1.2.\n\nThe Boston housing prices dataset has an ethical problem: as\ninvestigated in [1], the authors of this dataset engineered a\nnon-invertible variable \"B\" assuming that racial self-segregation had a\npositive impact on house prices [2]. Furthermore the goal of the\nresearch that led to the creation of this dataset was to study the\nimpact of air quality but it did not give adequate demonstration of the\nvalidity of this assumption.\n\nThe scikit-learn maintainers therefore strongly discourage the use of\nthis dataset unless the purpose of the code is to study and educate\nabout ethical issues in data science and machine learning.\n\nIn this special case, you can fetch the dataset from the original\nsource::\n\n    import pandas as pd\n    import numpy as np\n\n    data_url = \"http://lib.stat.cmu.edu/datasets/boston\"\n    raw_df = pd.read_csv(data_url, sep=\"\\s+\", skiprows=22, header=None)\n    data = np.hstack([raw_df.values[::2, :], raw_df.values[1::2, :2]])\n    target = raw_df.values[1::2, 2]\n\nAlternative datasets include the California housing dataset and the\nAmes housing dataset. You can load the datasets as follows::\n\n    from sklearn.datasets import fetch_california_housing\n    housing = fetch_california_housing()\n\nfor the California housing dataset and::\n\n    from sklearn.datasets import fetch_openml\n    housing = fetch_openml(name=\"house_prices\", as_frame=True)\n\nfor the Ames housing dataset.\n\n[1] M Carlisle.\n\"Racist data destruction?\"\n<https://medium.com/@docintangible/racist-data-destruction-113e3eff54a8>\n\n[2] Harrison Jr, David, and Daniel L. Rubinfeld.\n\"Hedonic housing prices and the demand for clean air.\"\nJournal of environmental economics and management 5.1 (1978): 81-102.\n<https://www.researchgate.net/publication/4974606_Hedonic_housing_prices_and_the_demand_for_clean_air>\n",
     "output_type": "error",
     "traceback": [
      "\u001b[1;31m---------------------------------------------------------------------------\u001b[0m",
      "\u001b[1;31mImportError\u001b[0m                               Traceback (most recent call last)",
      "\u001b[1;32md:\\Sadiq\\Uni\\Year 4\\F20AA - Text Analytics\\cw2\\final_submission.ipynb Cell 53\u001b[0m in \u001b[0;36m4\n\u001b[0;32m      <a href='vscode-notebook-cell:/d%3A/Sadiq/Uni/Year%204/F20AA%20-%20Text%20Analytics/cw2/final_submission.ipynb#Y105sZmlsZQ%3D%3D?line=1'>2</a>\u001b[0m \u001b[39mfrom\u001b[39;00m \u001b[39msklearn\u001b[39;00m\u001b[39m.\u001b[39;00m\u001b[39mfeature_extraction\u001b[39;00m\u001b[39m.\u001b[39;00m\u001b[39mtext\u001b[39;00m \u001b[39mimport\u001b[39;00m TfidfVectorizer\n\u001b[0;32m      <a href='vscode-notebook-cell:/d%3A/Sadiq/Uni/Year%204/F20AA%20-%20Text%20Analytics/cw2/final_submission.ipynb#Y105sZmlsZQ%3D%3D?line=2'>3</a>\u001b[0m \u001b[39mfrom\u001b[39;00m \u001b[39msklearn\u001b[39;00m\u001b[39m.\u001b[39;00m\u001b[39mpipeline\u001b[39;00m \u001b[39mimport\u001b[39;00m make_pipeline\n\u001b[1;32m----> <a href='vscode-notebook-cell:/d%3A/Sadiq/Uni/Year%204/F20AA%20-%20Text%20Analytics/cw2/final_submission.ipynb#Y105sZmlsZQ%3D%3D?line=3'>4</a>\u001b[0m \u001b[39mimport\u001b[39;00m \u001b[39mmglearn\u001b[39;00m \u001b[39mas\u001b[39;00m \u001b[39mmglearn\u001b[39;00m\n\u001b[0;32m      <a href='vscode-notebook-cell:/d%3A/Sadiq/Uni/Year%204/F20AA%20-%20Text%20Analytics/cw2/final_submission.ipynb#Y105sZmlsZQ%3D%3D?line=5'>6</a>\u001b[0m pipe \u001b[39m=\u001b[39m make_pipeline(TfidfVectorizer(min_df\u001b[39m=\u001b[39m\u001b[39m5\u001b[39m),\n\u001b[0;32m      <a href='vscode-notebook-cell:/d%3A/Sadiq/Uni/Year%204/F20AA%20-%20Text%20Analytics/cw2/final_submission.ipynb#Y105sZmlsZQ%3D%3D?line=6'>7</a>\u001b[0m                      LogisticRegression())\n\u001b[0;32m      <a href='vscode-notebook-cell:/d%3A/Sadiq/Uni/Year%204/F20AA%20-%20Text%20Analytics/cw2/final_submission.ipynb#Y105sZmlsZQ%3D%3D?line=8'>9</a>\u001b[0m param_grid \u001b[39m=\u001b[39m {\u001b[39m'\u001b[39m\u001b[39mlogisticregression__C\u001b[39m\u001b[39m'\u001b[39m: [\u001b[39m0.001\u001b[39m, \u001b[39m0.01\u001b[39m, \u001b[39m0.1\u001b[39m, \u001b[39m1\u001b[39m, \u001b[39m10\u001b[39m]}\n",
      "File \u001b[1;32mc:\\Users\\sadiq\\anaconda3\\envs\\tensorProject\\lib\\site-packages\\mglearn\\__init__.py:1\u001b[0m\n\u001b[1;32m----> 1\u001b[0m \u001b[39mfrom\u001b[39;00m \u001b[39m.\u001b[39;00m \u001b[39mimport\u001b[39;00m plots\n\u001b[0;32m      2\u001b[0m \u001b[39mfrom\u001b[39;00m \u001b[39m.\u001b[39;00m \u001b[39mimport\u001b[39;00m tools\n\u001b[0;32m      3\u001b[0m \u001b[39mfrom\u001b[39;00m \u001b[39m.\u001b[39;00m\u001b[39mplots\u001b[39;00m \u001b[39mimport\u001b[39;00m cm3, cm2\n",
      "File \u001b[1;32mc:\\Users\\sadiq\\anaconda3\\envs\\tensorProject\\lib\\site-packages\\mglearn\\plots.py:5\u001b[0m\n\u001b[0;32m      3\u001b[0m \u001b[39mfrom\u001b[39;00m \u001b[39m.\u001b[39;00m\u001b[39mplot_animal_tree\u001b[39;00m \u001b[39mimport\u001b[39;00m plot_animal_tree\n\u001b[0;32m      4\u001b[0m \u001b[39mfrom\u001b[39;00m \u001b[39m.\u001b[39;00m\u001b[39mplot_rbf_svm_parameters\u001b[39;00m \u001b[39mimport\u001b[39;00m plot_svm\n\u001b[1;32m----> 5\u001b[0m \u001b[39mfrom\u001b[39;00m \u001b[39m.\u001b[39;00m\u001b[39mplot_knn_regression\u001b[39;00m \u001b[39mimport\u001b[39;00m plot_knn_regression\n\u001b[0;32m      6\u001b[0m \u001b[39mfrom\u001b[39;00m \u001b[39m.\u001b[39;00m\u001b[39mplot_knn_classification\u001b[39;00m \u001b[39mimport\u001b[39;00m plot_knn_classification\n\u001b[0;32m      7\u001b[0m \u001b[39mfrom\u001b[39;00m \u001b[39m.\u001b[39;00m\u001b[39mplot_2d_separator\u001b[39;00m \u001b[39mimport\u001b[39;00m plot_2d_classification, plot_2d_separator\n",
      "File \u001b[1;32mc:\\Users\\sadiq\\anaconda3\\envs\\tensorProject\\lib\\site-packages\\mglearn\\plot_knn_regression.py:7\u001b[0m\n\u001b[0;32m      4\u001b[0m \u001b[39mfrom\u001b[39;00m \u001b[39msklearn\u001b[39;00m\u001b[39m.\u001b[39;00m\u001b[39mneighbors\u001b[39;00m \u001b[39mimport\u001b[39;00m KNeighborsRegressor\n\u001b[0;32m      5\u001b[0m \u001b[39mfrom\u001b[39;00m \u001b[39msklearn\u001b[39;00m\u001b[39m.\u001b[39;00m\u001b[39mmetrics\u001b[39;00m \u001b[39mimport\u001b[39;00m euclidean_distances\n\u001b[1;32m----> 7\u001b[0m \u001b[39mfrom\u001b[39;00m \u001b[39m.\u001b[39;00m\u001b[39mdatasets\u001b[39;00m \u001b[39mimport\u001b[39;00m make_wave\n\u001b[0;32m      8\u001b[0m \u001b[39mfrom\u001b[39;00m \u001b[39m.\u001b[39;00m\u001b[39mplot_helpers\u001b[39;00m \u001b[39mimport\u001b[39;00m cm3\n\u001b[0;32m     11\u001b[0m \u001b[39mdef\u001b[39;00m \u001b[39mplot_knn_regression\u001b[39m(n_neighbors\u001b[39m=\u001b[39m\u001b[39m1\u001b[39m):\n",
      "File \u001b[1;32mc:\\Users\\sadiq\\anaconda3\\envs\\tensorProject\\lib\\site-packages\\mglearn\\datasets.py:5\u001b[0m\n\u001b[0;32m      3\u001b[0m \u001b[39mimport\u001b[39;00m \u001b[39mos\u001b[39;00m\n\u001b[0;32m      4\u001b[0m \u001b[39mfrom\u001b[39;00m \u001b[39mscipy\u001b[39;00m \u001b[39mimport\u001b[39;00m signal\n\u001b[1;32m----> 5\u001b[0m \u001b[39mfrom\u001b[39;00m \u001b[39msklearn\u001b[39;00m\u001b[39m.\u001b[39;00m\u001b[39mdatasets\u001b[39;00m \u001b[39mimport\u001b[39;00m load_boston\n\u001b[0;32m      6\u001b[0m \u001b[39mfrom\u001b[39;00m \u001b[39msklearn\u001b[39;00m\u001b[39m.\u001b[39;00m\u001b[39mpreprocessing\u001b[39;00m \u001b[39mimport\u001b[39;00m MinMaxScaler, PolynomialFeatures\n\u001b[0;32m      7\u001b[0m \u001b[39mfrom\u001b[39;00m \u001b[39m.\u001b[39;00m\u001b[39mmake_blobs\u001b[39;00m \u001b[39mimport\u001b[39;00m make_blobs\n",
      "File \u001b[1;32mc:\\Users\\sadiq\\anaconda3\\envs\\tensorProject\\lib\\site-packages\\sklearn\\datasets\\__init__.py:156\u001b[0m, in \u001b[0;36m__getattr__\u001b[1;34m(name)\u001b[0m\n\u001b[0;32m    105\u001b[0m \u001b[39mif\u001b[39;00m name \u001b[39m==\u001b[39m \u001b[39m\"\u001b[39m\u001b[39mload_boston\u001b[39m\u001b[39m\"\u001b[39m:\n\u001b[0;32m    106\u001b[0m     msg \u001b[39m=\u001b[39m textwrap\u001b[39m.\u001b[39mdedent(\n\u001b[0;32m    107\u001b[0m         \u001b[39m\"\"\"\u001b[39;00m\n\u001b[0;32m    108\u001b[0m \u001b[39m        `load_boston` has been removed from scikit-learn since version 1.2.\u001b[39;00m\n\u001b[1;32m   (...)\u001b[0m\n\u001b[0;32m    154\u001b[0m \u001b[39m        \"\"\"\u001b[39;00m\n\u001b[0;32m    155\u001b[0m     )\n\u001b[1;32m--> 156\u001b[0m     \u001b[39mraise\u001b[39;00m \u001b[39mImportError\u001b[39;00m(msg)\n\u001b[0;32m    157\u001b[0m \u001b[39mtry\u001b[39;00m:\n\u001b[0;32m    158\u001b[0m     \u001b[39mreturn\u001b[39;00m \u001b[39mglobals\u001b[39m()[name]\n",
      "\u001b[1;31mImportError\u001b[0m: \n`load_boston` has been removed from scikit-learn since version 1.2.\n\nThe Boston housing prices dataset has an ethical problem: as\ninvestigated in [1], the authors of this dataset engineered a\nnon-invertible variable \"B\" assuming that racial self-segregation had a\npositive impact on house prices [2]. Furthermore the goal of the\nresearch that led to the creation of this dataset was to study the\nimpact of air quality but it did not give adequate demonstration of the\nvalidity of this assumption.\n\nThe scikit-learn maintainers therefore strongly discourage the use of\nthis dataset unless the purpose of the code is to study and educate\nabout ethical issues in data science and machine learning.\n\nIn this special case, you can fetch the dataset from the original\nsource::\n\n    import pandas as pd\n    import numpy as np\n\n    data_url = \"http://lib.stat.cmu.edu/datasets/boston\"\n    raw_df = pd.read_csv(data_url, sep=\"\\s+\", skiprows=22, header=None)\n    data = np.hstack([raw_df.values[::2, :], raw_df.values[1::2, :2]])\n    target = raw_df.values[1::2, 2]\n\nAlternative datasets include the California housing dataset and the\nAmes housing dataset. You can load the datasets as follows::\n\n    from sklearn.datasets import fetch_california_housing\n    housing = fetch_california_housing()\n\nfor the California housing dataset and::\n\n    from sklearn.datasets import fetch_openml\n    housing = fetch_openml(name=\"house_prices\", as_frame=True)\n\nfor the Ames housing dataset.\n\n[1] M Carlisle.\n\"Racist data destruction?\"\n<https://medium.com/@docintangible/racist-data-destruction-113e3eff54a8>\n\n[2] Harrison Jr, David, and Daniel L. Rubinfeld.\n\"Hedonic housing prices and the demand for clean air.\"\nJournal of environmental economics and management 5.1 (1978): 81-102.\n<https://www.researchgate.net/publication/4974606_Hedonic_housing_prices_and_the_demand_for_clean_air>\n"
     ]
    }
   ],
   "source": [
    "from sklearn.model_selection import GridSearchCV\n",
    "from sklearn.feature_extraction.text import TfidfVectorizer\n",
    "from sklearn.pipeline import make_pipeline\n",
    "import mglearn as mglearn\n",
    "\n",
    "pipe = make_pipeline(TfidfVectorizer(min_df=5),\n",
    "                     LogisticRegression())\n",
    "\n",
    "param_grid = {'logisticregression__C': [0.001, 0.01, 0.1, 1, 10]}\n",
    "\n",
    "grid = GridSearchCV(pipe, param_grid, cv=5)\n",
    "\n",
    "grid.fit(X_train, y_train)\n",
    "\n",
    "vectorizer = grid.best_estimator_.named_steps[\"tfidfvectorizer\"]\n",
    "\n",
    "feature_names = np.array(vectorizer.get_feature_names_out())\n",
    "\n",
    "\n",
    "\n",
    "\n",
    "mglearn.tools.visualize_coefficients(\n",
    "    grid.best_estimator_.named_steps[\"logisticregression\"].coef_,\n",
    "    feature_names, n_top_features=40)"
   ]
  }
 ],
 "metadata": {
  "kernelspec": {
   "display_name": "tensorProject",
   "language": "python",
   "name": "python3"
  },
  "language_info": {
   "codemirror_mode": {
    "name": "ipython",
    "version": 3
   },
   "file_extension": ".py",
   "mimetype": "text/x-python",
   "name": "python",
   "nbconvert_exporter": "python",
   "pygments_lexer": "ipython3",
   "version": "3.9.13"
  },
  "orig_nbformat": 4,
  "vscode": {
   "interpreter": {
    "hash": "6245d6dd82a2ae19478731a84abf513fc2659f068fc09753150ce21a402543e0"
   }
  }
 },
 "nbformat": 4,
 "nbformat_minor": 2
}
